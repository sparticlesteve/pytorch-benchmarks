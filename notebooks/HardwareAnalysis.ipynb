{
 "cells": [
  {
   "cell_type": "markdown",
   "metadata": {},
   "source": [
    "# PyTorch hardware benchmark analysis\n",
    "\n",
    "Single node throughput comparisons between different hardware options at NERSC."
   ]
  },
  {
   "cell_type": "code",
   "execution_count": 1,
   "metadata": {},
   "outputs": [],
   "source": [
    "import os\n",
    "import re\n",
    "import glob\n",
    "\n",
    "import pandas as pd\n",
    "import matplotlib.pyplot as plt"
   ]
  },
  {
   "cell_type": "code",
   "execution_count": 2,
   "metadata": {},
   "outputs": [],
   "source": [
    "%matplotlib inline"
   ]
  },
  {
   "cell_type": "code",
   "execution_count": 3,
   "metadata": {},
   "outputs": [],
   "source": [
    "plt.rcParams.update({'font.size': 14})"
   ]
  },
  {
   "cell_type": "markdown",
   "metadata": {},
   "source": [
    "## Load the results"
   ]
  },
  {
   "cell_type": "code",
   "execution_count": 4,
   "metadata": {},
   "outputs": [
    {
     "name": "stdout",
     "output_type": "stream",
     "text": [
      "\u001b[0m\u001b[01;34mgpu-1.7.0-nccl-n1\u001b[0m/         \u001b[01;34mgpu-v1.2.0-nccl-n1\u001b[0m/  \u001b[01;34mhsw-1.7.1-mpi-n4\u001b[0m/\n",
      "\u001b[01;34mgpu-1.7.1-gloo-n1\u001b[0m/         \u001b[01;34mgpu-v1.3.1-nccl-n1\u001b[0m/  \u001b[01;34mhsw-1.7.1-mpi-n64\u001b[0m/\n",
      "\u001b[01;34mgpu-1.7.1-gloo-n16\u001b[0m/        \u001b[01;34mgpu-v1.4.0-nccl-n1\u001b[0m/  \u001b[01;34mhsw-1.7.1-mpi-n8\u001b[0m/\n",
      "\u001b[01;34mgpu-1.7.1-gloo-n2\u001b[0m/         \u001b[01;34mgpu-v1.5.1-nccl-n1\u001b[0m/  \u001b[01;34mhsw-v1.2.0-mpi-n1\u001b[0m/\n",
      "\u001b[01;34mgpu-1.7.1-gloo-n32\u001b[0m/        \u001b[01;34mgpu-v1.6.0-nccl-n1\u001b[0m/  \u001b[01;34mhsw-v1.3.1-mpi-n1\u001b[0m/\n",
      "\u001b[01;34mgpu-1.7.1-gloo-n4\u001b[0m/         \u001b[01;34mhsw-1.7.1-gloo-n1\u001b[0m/   \u001b[01;34mhsw-v1.4.0-mpi-n1\u001b[0m/\n",
      "\u001b[01;34mgpu-1.7.1-gloo-n64\u001b[0m/        \u001b[01;34mhsw-1.7.1-gloo-n16\u001b[0m/  \u001b[01;34mhsw-v1.5.0-mpi-n1\u001b[0m/\n",
      "\u001b[01;34mgpu-1.7.1-gloo-n8\u001b[0m/         \u001b[01;34mhsw-1.7.1-gloo-n2\u001b[0m/   \u001b[01;34mhsw-v1.6.0-mpi-n1\u001b[0m/\n",
      "\u001b[01;34mgpu-1.7.1-nccl-n1\u001b[0m/         \u001b[01;34mhsw-1.7.1-gloo-n32\u001b[0m/  \u001b[01;34mknl-1.7.1-mpi-n1\u001b[0m/\n",
      "\u001b[01;34mgpu-1.7.1-nccl-n16\u001b[0m/        \u001b[01;34mhsw-1.7.1-gloo-n4\u001b[0m/   \u001b[01;34mknl-1.7.1-mpi-n16\u001b[0m/\n",
      "\u001b[01;34mgpu-1.7.1-nccl-n2\u001b[0m/         \u001b[01;34mhsw-1.7.1-gloo-n64\u001b[0m/  \u001b[01;34mknl-1.7.1-mpi-n2\u001b[0m/\n",
      "\u001b[01;34mgpu-1.7.1-nccl-n32\u001b[0m/        \u001b[01;34mhsw-1.7.1-gloo-n8\u001b[0m/   \u001b[01;34mknl-1.7.1-mpi-n32\u001b[0m/\n",
      "\u001b[01;34mgpu-1.7.1-nccl-n4\u001b[0m/         \u001b[01;34mhsw-1.7.1-mpi-n1\u001b[0m/    \u001b[01;34mknl-1.7.1-mpi-n4\u001b[0m/\n",
      "\u001b[01;34mgpu-1.7.1-nccl-n64\u001b[0m/        \u001b[01;34mhsw-1.7.1-mpi-n16\u001b[0m/   \u001b[01;34mknl-1.7.1-mpi-n64\u001b[0m/\n",
      "\u001b[01;34mgpu-1.7.1-nccl-n8\u001b[0m/         \u001b[01;34mhsw-1.7.1-mpi-n2\u001b[0m/    \u001b[01;34mknl-1.7.1-mpi-n8\u001b[0m/\n",
      "\u001b[01;34mgpu-ngc-20.10-v0-nccl-n1\u001b[0m/  \u001b[01;34mhsw-1.7.1-mpi-n32\u001b[0m/\n"
     ]
    }
   ],
   "source": [
    "ls /global/cscratch1/sd/sfarrell/pytorch-benchmarks/results/"
   ]
  },
  {
   "cell_type": "code",
   "execution_count": 9,
   "metadata": {},
   "outputs": [],
   "source": [
    "pattern = '/global/cscratch1/sd/sfarrell/pytorch-benchmarks/results/%s-%s-%s-n1/results.txt'\n",
    "version = '1.7.1'"
   ]
  },
  {
   "cell_type": "code",
   "execution_count": 10,
   "metadata": {},
   "outputs": [
    {
     "data": {
      "text/plain": [
       "['/global/cscratch1/sd/sfarrell/pytorch-benchmarks/results/hsw-1.7.1-mpi-n1/results.txt',\n",
       " '/global/cscratch1/sd/sfarrell/pytorch-benchmarks/results/knl-1.7.1-mpi-n1/results.txt',\n",
       " '/global/cscratch1/sd/sfarrell/pytorch-benchmarks/results/gpu-1.7.1-nccl-n1/results.txt']"
      ]
     },
     "execution_count": 10,
     "metadata": {},
     "output_type": "execute_result"
    }
   ],
   "source": [
    "results_files = (\n",
    "    glob.glob(pattern % ('hsw', version, 'mpi')) +\n",
    "    glob.glob(pattern % ('knl', version, 'mpi')) + \n",
    "    glob.glob(pattern % ('gpu', version, 'nccl'))\n",
    ")\n",
    "results_files"
   ]
  },
  {
   "cell_type": "code",
   "execution_count": 11,
   "metadata": {},
   "outputs": [],
   "source": [
    "results = [pd.read_csv(f, delim_whitespace=True) for f in results_files]\n",
    "results = pd.concat(results, ignore_index=True)"
   ]
  },
  {
   "cell_type": "markdown",
   "metadata": {},
   "source": [
    "## Tables"
   ]
  },
  {
   "cell_type": "markdown",
   "metadata": {},
   "source": [
    "### Full set of training and inference rates (samples/s) for configurations tested"
   ]
  },
  {
   "cell_type": "code",
   "execution_count": 11,
   "metadata": {},
   "outputs": [
    {
     "data": {
      "text/html": [
       "<div>\n",
       "<style scoped>\n",
       "    .dataframe tbody tr th:only-of-type {\n",
       "        vertical-align: middle;\n",
       "    }\n",
       "\n",
       "    .dataframe tbody tr th {\n",
       "        vertical-align: top;\n",
       "    }\n",
       "\n",
       "    .dataframe thead th {\n",
       "        text-align: right;\n",
       "    }\n",
       "</style>\n",
       "<table border=\"1\" class=\"dataframe\">\n",
       "  <thead>\n",
       "    <tr style=\"text-align: right;\">\n",
       "      <th></th>\n",
       "      <th>train_rate</th>\n",
       "      <th>inference_rate</th>\n",
       "      <th>ranks</th>\n",
       "      <th>hardware</th>\n",
       "      <th>version</th>\n",
       "      <th>backend</th>\n",
       "      <th>model</th>\n",
       "    </tr>\n",
       "  </thead>\n",
       "  <tbody>\n",
       "    <tr>\n",
       "      <td>0</td>\n",
       "      <td>8.667265</td>\n",
       "      <td>34.391664</td>\n",
       "      <td>1</td>\n",
       "      <td>hsw</td>\n",
       "      <td>1.7.1</td>\n",
       "      <td>mpi</td>\n",
       "      <td>transformer</td>\n",
       "    </tr>\n",
       "    <tr>\n",
       "      <td>1</td>\n",
       "      <td>823.987637</td>\n",
       "      <td>1929.792356</td>\n",
       "      <td>1</td>\n",
       "      <td>hsw</td>\n",
       "      <td>1.7.1</td>\n",
       "      <td>mpi</td>\n",
       "      <td>lstm</td>\n",
       "    </tr>\n",
       "    <tr>\n",
       "      <td>2</td>\n",
       "      <td>209.991957</td>\n",
       "      <td>753.882725</td>\n",
       "      <td>1</td>\n",
       "      <td>hsw</td>\n",
       "      <td>1.7.1</td>\n",
       "      <td>mpi</td>\n",
       "      <td>alexnet</td>\n",
       "    </tr>\n",
       "    <tr>\n",
       "      <td>3</td>\n",
       "      <td>16.304242</td>\n",
       "      <td>55.684349</td>\n",
       "      <td>1</td>\n",
       "      <td>hsw</td>\n",
       "      <td>1.7.1</td>\n",
       "      <td>mpi</td>\n",
       "      <td>resnet50</td>\n",
       "    </tr>\n",
       "    <tr>\n",
       "      <td>4</td>\n",
       "      <td>46.387229</td>\n",
       "      <td>98.640427</td>\n",
       "      <td>1</td>\n",
       "      <td>hsw</td>\n",
       "      <td>1.7.1</td>\n",
       "      <td>mpi</td>\n",
       "      <td>cnn3d</td>\n",
       "    </tr>\n",
       "    <tr>\n",
       "      <td>5</td>\n",
       "      <td>5.854703</td>\n",
       "      <td>16.195197</td>\n",
       "      <td>1</td>\n",
       "      <td>knl</td>\n",
       "      <td>1.7.1</td>\n",
       "      <td>mpi</td>\n",
       "      <td>transformer</td>\n",
       "    </tr>\n",
       "    <tr>\n",
       "      <td>6</td>\n",
       "      <td>203.936679</td>\n",
       "      <td>577.553098</td>\n",
       "      <td>1</td>\n",
       "      <td>knl</td>\n",
       "      <td>1.7.1</td>\n",
       "      <td>mpi</td>\n",
       "      <td>lstm</td>\n",
       "    </tr>\n",
       "    <tr>\n",
       "      <td>7</td>\n",
       "      <td>172.926193</td>\n",
       "      <td>525.629263</td>\n",
       "      <td>1</td>\n",
       "      <td>knl</td>\n",
       "      <td>1.7.1</td>\n",
       "      <td>mpi</td>\n",
       "      <td>alexnet</td>\n",
       "    </tr>\n",
       "    <tr>\n",
       "      <td>8</td>\n",
       "      <td>9.559700</td>\n",
       "      <td>56.262870</td>\n",
       "      <td>1</td>\n",
       "      <td>knl</td>\n",
       "      <td>1.7.1</td>\n",
       "      <td>mpi</td>\n",
       "      <td>resnet50</td>\n",
       "    </tr>\n",
       "    <tr>\n",
       "      <td>9</td>\n",
       "      <td>22.123041</td>\n",
       "      <td>42.548305</td>\n",
       "      <td>1</td>\n",
       "      <td>knl</td>\n",
       "      <td>1.7.1</td>\n",
       "      <td>mpi</td>\n",
       "      <td>cnn3d</td>\n",
       "    </tr>\n",
       "    <tr>\n",
       "      <td>10</td>\n",
       "      <td>263.916098</td>\n",
       "      <td>785.413158</td>\n",
       "      <td>1</td>\n",
       "      <td>gpu</td>\n",
       "      <td>1.7.1</td>\n",
       "      <td>nccl</td>\n",
       "      <td>transformer</td>\n",
       "    </tr>\n",
       "    <tr>\n",
       "      <td>11</td>\n",
       "      <td>7364.038724</td>\n",
       "      <td>14140.864019</td>\n",
       "      <td>1</td>\n",
       "      <td>gpu</td>\n",
       "      <td>1.7.1</td>\n",
       "      <td>nccl</td>\n",
       "      <td>lstm</td>\n",
       "    </tr>\n",
       "    <tr>\n",
       "      <td>12</td>\n",
       "      <td>1953.334923</td>\n",
       "      <td>3581.430818</td>\n",
       "      <td>1</td>\n",
       "      <td>gpu</td>\n",
       "      <td>1.7.1</td>\n",
       "      <td>nccl</td>\n",
       "      <td>alexnet</td>\n",
       "    </tr>\n",
       "    <tr>\n",
       "      <td>13</td>\n",
       "      <td>328.158709</td>\n",
       "      <td>999.520871</td>\n",
       "      <td>1</td>\n",
       "      <td>gpu</td>\n",
       "      <td>1.7.1</td>\n",
       "      <td>nccl</td>\n",
       "      <td>resnet50</td>\n",
       "    </tr>\n",
       "    <tr>\n",
       "      <td>14</td>\n",
       "      <td>428.229954</td>\n",
       "      <td>909.472077</td>\n",
       "      <td>1</td>\n",
       "      <td>gpu</td>\n",
       "      <td>1.7.1</td>\n",
       "      <td>nccl</td>\n",
       "      <td>cnn3d</td>\n",
       "    </tr>\n",
       "  </tbody>\n",
       "</table>\n",
       "</div>"
      ],
      "text/plain": [
       "     train_rate  inference_rate  ranks hardware version backend        model\n",
       "0      8.667265       34.391664      1      hsw   1.7.1     mpi  transformer\n",
       "1    823.987637     1929.792356      1      hsw   1.7.1     mpi         lstm\n",
       "2    209.991957      753.882725      1      hsw   1.7.1     mpi      alexnet\n",
       "3     16.304242       55.684349      1      hsw   1.7.1     mpi     resnet50\n",
       "4     46.387229       98.640427      1      hsw   1.7.1     mpi        cnn3d\n",
       "5      5.854703       16.195197      1      knl   1.7.1     mpi  transformer\n",
       "6    203.936679      577.553098      1      knl   1.7.1     mpi         lstm\n",
       "7    172.926193      525.629263      1      knl   1.7.1     mpi      alexnet\n",
       "8      9.559700       56.262870      1      knl   1.7.1     mpi     resnet50\n",
       "9     22.123041       42.548305      1      knl   1.7.1     mpi        cnn3d\n",
       "10   263.916098      785.413158      1      gpu   1.7.1    nccl  transformer\n",
       "11  7364.038724    14140.864019      1      gpu   1.7.1    nccl         lstm\n",
       "12  1953.334923     3581.430818      1      gpu   1.7.1    nccl      alexnet\n",
       "13   328.158709      999.520871      1      gpu   1.7.1    nccl     resnet50\n",
       "14   428.229954      909.472077      1      gpu   1.7.1    nccl        cnn3d"
      ]
     },
     "execution_count": 11,
     "metadata": {},
     "output_type": "execute_result"
    }
   ],
   "source": [
    "results"
   ]
  },
  {
   "cell_type": "code",
   "execution_count": 23,
   "metadata": {},
   "outputs": [],
   "source": [
    "pd.set_option('precision', 2)"
   ]
  },
  {
   "cell_type": "markdown",
   "metadata": {},
   "source": [
    "### Training rate per hardware"
   ]
  },
  {
   "cell_type": "code",
   "execution_count": 24,
   "metadata": {},
   "outputs": [
    {
     "data": {
      "text/html": [
       "<div>\n",
       "<style scoped>\n",
       "    .dataframe tbody tr th:only-of-type {\n",
       "        vertical-align: middle;\n",
       "    }\n",
       "\n",
       "    .dataframe tbody tr th {\n",
       "        vertical-align: top;\n",
       "    }\n",
       "\n",
       "    .dataframe thead th {\n",
       "        text-align: right;\n",
       "    }\n",
       "</style>\n",
       "<table border=\"1\" class=\"dataframe\">\n",
       "  <thead>\n",
       "    <tr style=\"text-align: right;\">\n",
       "      <th>hardware</th>\n",
       "      <th>hsw</th>\n",
       "      <th>knl</th>\n",
       "      <th>gpu</th>\n",
       "    </tr>\n",
       "    <tr>\n",
       "      <th>model</th>\n",
       "      <th></th>\n",
       "      <th></th>\n",
       "      <th></th>\n",
       "    </tr>\n",
       "  </thead>\n",
       "  <tbody>\n",
       "    <tr>\n",
       "      <td>alexnet</td>\n",
       "      <td>209.99</td>\n",
       "      <td>172.93</td>\n",
       "      <td>1953.33</td>\n",
       "    </tr>\n",
       "    <tr>\n",
       "      <td>cnn3d</td>\n",
       "      <td>46.39</td>\n",
       "      <td>22.12</td>\n",
       "      <td>428.23</td>\n",
       "    </tr>\n",
       "    <tr>\n",
       "      <td>lstm</td>\n",
       "      <td>823.99</td>\n",
       "      <td>203.94</td>\n",
       "      <td>7364.04</td>\n",
       "    </tr>\n",
       "    <tr>\n",
       "      <td>resnet50</td>\n",
       "      <td>16.30</td>\n",
       "      <td>9.56</td>\n",
       "      <td>328.16</td>\n",
       "    </tr>\n",
       "    <tr>\n",
       "      <td>transformer</td>\n",
       "      <td>8.67</td>\n",
       "      <td>5.85</td>\n",
       "      <td>263.92</td>\n",
       "    </tr>\n",
       "  </tbody>\n",
       "</table>\n",
       "</div>"
      ],
      "text/plain": [
       "hardware        hsw     knl      gpu\n",
       "model                               \n",
       "alexnet      209.99  172.93  1953.33\n",
       "cnn3d         46.39   22.12   428.23\n",
       "lstm         823.99  203.94  7364.04\n",
       "resnet50      16.30    9.56   328.16\n",
       "transformer    8.67    5.85   263.92"
      ]
     },
     "execution_count": 24,
     "metadata": {},
     "output_type": "execute_result"
    }
   ],
   "source": [
    "train_rates = results.groupby('model').apply(lambda g: pd.Series(data=g.train_rate.values, index=g.hardware))\n",
    "train_rates"
   ]
  },
  {
   "cell_type": "markdown",
   "metadata": {},
   "source": [
    "### Training rates relative to Haswell"
   ]
  },
  {
   "cell_type": "code",
   "execution_count": 25,
   "metadata": {},
   "outputs": [
    {
     "data": {
      "text/html": [
       "<div>\n",
       "<style scoped>\n",
       "    .dataframe tbody tr th:only-of-type {\n",
       "        vertical-align: middle;\n",
       "    }\n",
       "\n",
       "    .dataframe tbody tr th {\n",
       "        vertical-align: top;\n",
       "    }\n",
       "\n",
       "    .dataframe thead th {\n",
       "        text-align: right;\n",
       "    }\n",
       "</style>\n",
       "<table border=\"1\" class=\"dataframe\">\n",
       "  <thead>\n",
       "    <tr style=\"text-align: right;\">\n",
       "      <th>hardware</th>\n",
       "      <th>hsw</th>\n",
       "      <th>knl</th>\n",
       "      <th>gpu</th>\n",
       "    </tr>\n",
       "    <tr>\n",
       "      <th>model</th>\n",
       "      <th></th>\n",
       "      <th></th>\n",
       "      <th></th>\n",
       "    </tr>\n",
       "  </thead>\n",
       "  <tbody>\n",
       "    <tr>\n",
       "      <td>alexnet</td>\n",
       "      <td>1.0</td>\n",
       "      <td>0.82</td>\n",
       "      <td>9.30</td>\n",
       "    </tr>\n",
       "    <tr>\n",
       "      <td>cnn3d</td>\n",
       "      <td>1.0</td>\n",
       "      <td>0.48</td>\n",
       "      <td>9.23</td>\n",
       "    </tr>\n",
       "    <tr>\n",
       "      <td>lstm</td>\n",
       "      <td>1.0</td>\n",
       "      <td>0.25</td>\n",
       "      <td>8.94</td>\n",
       "    </tr>\n",
       "    <tr>\n",
       "      <td>resnet50</td>\n",
       "      <td>1.0</td>\n",
       "      <td>0.59</td>\n",
       "      <td>20.13</td>\n",
       "    </tr>\n",
       "    <tr>\n",
       "      <td>transformer</td>\n",
       "      <td>1.0</td>\n",
       "      <td>0.68</td>\n",
       "      <td>30.45</td>\n",
       "    </tr>\n",
       "  </tbody>\n",
       "</table>\n",
       "</div>"
      ],
      "text/plain": [
       "hardware     hsw   knl    gpu\n",
       "model                        \n",
       "alexnet      1.0  0.82   9.30\n",
       "cnn3d        1.0  0.48   9.23\n",
       "lstm         1.0  0.25   8.94\n",
       "resnet50     1.0  0.59  20.13\n",
       "transformer  1.0  0.68  30.45"
      ]
     },
     "execution_count": 25,
     "metadata": {},
     "output_type": "execute_result"
    }
   ],
   "source": [
    "train_rates.apply(lambda x: x / train_rates.hsw)"
   ]
  },
  {
   "cell_type": "markdown",
   "metadata": {},
   "source": [
    "### Inference rates per hardware"
   ]
  },
  {
   "cell_type": "code",
   "execution_count": 26,
   "metadata": {},
   "outputs": [
    {
     "data": {
      "text/html": [
       "<div>\n",
       "<style scoped>\n",
       "    .dataframe tbody tr th:only-of-type {\n",
       "        vertical-align: middle;\n",
       "    }\n",
       "\n",
       "    .dataframe tbody tr th {\n",
       "        vertical-align: top;\n",
       "    }\n",
       "\n",
       "    .dataframe thead th {\n",
       "        text-align: right;\n",
       "    }\n",
       "</style>\n",
       "<table border=\"1\" class=\"dataframe\">\n",
       "  <thead>\n",
       "    <tr style=\"text-align: right;\">\n",
       "      <th>hardware</th>\n",
       "      <th>hsw</th>\n",
       "      <th>knl</th>\n",
       "      <th>gpu</th>\n",
       "    </tr>\n",
       "    <tr>\n",
       "      <th>model</th>\n",
       "      <th></th>\n",
       "      <th></th>\n",
       "      <th></th>\n",
       "    </tr>\n",
       "  </thead>\n",
       "  <tbody>\n",
       "    <tr>\n",
       "      <td>alexnet</td>\n",
       "      <td>753.88</td>\n",
       "      <td>525.63</td>\n",
       "      <td>3581.43</td>\n",
       "    </tr>\n",
       "    <tr>\n",
       "      <td>cnn3d</td>\n",
       "      <td>98.64</td>\n",
       "      <td>42.55</td>\n",
       "      <td>909.47</td>\n",
       "    </tr>\n",
       "    <tr>\n",
       "      <td>lstm</td>\n",
       "      <td>1929.79</td>\n",
       "      <td>577.55</td>\n",
       "      <td>14140.86</td>\n",
       "    </tr>\n",
       "    <tr>\n",
       "      <td>resnet50</td>\n",
       "      <td>55.68</td>\n",
       "      <td>56.26</td>\n",
       "      <td>999.52</td>\n",
       "    </tr>\n",
       "    <tr>\n",
       "      <td>transformer</td>\n",
       "      <td>34.39</td>\n",
       "      <td>16.20</td>\n",
       "      <td>785.41</td>\n",
       "    </tr>\n",
       "  </tbody>\n",
       "</table>\n",
       "</div>"
      ],
      "text/plain": [
       "hardware         hsw     knl       gpu\n",
       "model                                 \n",
       "alexnet       753.88  525.63   3581.43\n",
       "cnn3d          98.64   42.55    909.47\n",
       "lstm         1929.79  577.55  14140.86\n",
       "resnet50       55.68   56.26    999.52\n",
       "transformer    34.39   16.20    785.41"
      ]
     },
     "execution_count": 26,
     "metadata": {},
     "output_type": "execute_result"
    }
   ],
   "source": [
    "inference_rates = results.groupby('model').apply(lambda g: pd.Series(data=g.inference_rate.values, index=g.hardware))\n",
    "inference_rates"
   ]
  },
  {
   "cell_type": "markdown",
   "metadata": {},
   "source": [
    "### Inference rates relative to Haswell"
   ]
  },
  {
   "cell_type": "code",
   "execution_count": 27,
   "metadata": {},
   "outputs": [
    {
     "data": {
      "text/html": [
       "<div>\n",
       "<style scoped>\n",
       "    .dataframe tbody tr th:only-of-type {\n",
       "        vertical-align: middle;\n",
       "    }\n",
       "\n",
       "    .dataframe tbody tr th {\n",
       "        vertical-align: top;\n",
       "    }\n",
       "\n",
       "    .dataframe thead th {\n",
       "        text-align: right;\n",
       "    }\n",
       "</style>\n",
       "<table border=\"1\" class=\"dataframe\">\n",
       "  <thead>\n",
       "    <tr style=\"text-align: right;\">\n",
       "      <th>hardware</th>\n",
       "      <th>hsw</th>\n",
       "      <th>knl</th>\n",
       "      <th>gpu</th>\n",
       "    </tr>\n",
       "    <tr>\n",
       "      <th>model</th>\n",
       "      <th></th>\n",
       "      <th></th>\n",
       "      <th></th>\n",
       "    </tr>\n",
       "  </thead>\n",
       "  <tbody>\n",
       "    <tr>\n",
       "      <td>alexnet</td>\n",
       "      <td>1.0</td>\n",
       "      <td>0.70</td>\n",
       "      <td>4.75</td>\n",
       "    </tr>\n",
       "    <tr>\n",
       "      <td>cnn3d</td>\n",
       "      <td>1.0</td>\n",
       "      <td>0.43</td>\n",
       "      <td>9.22</td>\n",
       "    </tr>\n",
       "    <tr>\n",
       "      <td>lstm</td>\n",
       "      <td>1.0</td>\n",
       "      <td>0.30</td>\n",
       "      <td>7.33</td>\n",
       "    </tr>\n",
       "    <tr>\n",
       "      <td>resnet50</td>\n",
       "      <td>1.0</td>\n",
       "      <td>1.01</td>\n",
       "      <td>17.95</td>\n",
       "    </tr>\n",
       "    <tr>\n",
       "      <td>transformer</td>\n",
       "      <td>1.0</td>\n",
       "      <td>0.47</td>\n",
       "      <td>22.84</td>\n",
       "    </tr>\n",
       "  </tbody>\n",
       "</table>\n",
       "</div>"
      ],
      "text/plain": [
       "hardware     hsw   knl    gpu\n",
       "model                        \n",
       "alexnet      1.0  0.70   4.75\n",
       "cnn3d        1.0  0.43   9.22\n",
       "lstm         1.0  0.30   7.33\n",
       "resnet50     1.0  1.01  17.95\n",
       "transformer  1.0  0.47  22.84"
      ]
     },
     "execution_count": 27,
     "metadata": {},
     "output_type": "execute_result"
    }
   ],
   "source": [
    "inference_rates.apply(lambda x: x / inference_rates.hsw)"
   ]
  },
  {
   "cell_type": "markdown",
   "metadata": {},
   "source": [
    "## Training throughput barplots"
   ]
  },
  {
   "cell_type": "code",
   "execution_count": 29,
   "metadata": {},
   "outputs": [],
   "source": [
    "#models = ['alexnet', 'vgg11', 'inceptionV3', 'resnet50', 'cnn3d', 'lstm']\n",
    "models = ['alexnet', 'resnet50', 'cnn3d', 'lstm', 'transformer']\n",
    "results_by_model = results.groupby('model')"
   ]
  },
  {
   "cell_type": "code",
   "execution_count": 31,
   "metadata": {},
   "outputs": [
    {
     "data": {
      "image/png": "[encoded data removed]",
      "text/plain": [
       "<Figure size 1296x720 with 6 Axes>"
      ]
     },
     "metadata": {
      "needs_background": "light"
     },
     "output_type": "display_data"
    }
   ],
   "source": [
    "fig, axs = plt.subplots(nrows=2, ncols=3, figsize=(18, 10))\n",
    "axs = axs.flatten()\n",
    "\n",
    "for i, model in enumerate(models):\n",
    "    ax = axs[i]\n",
    "    model_results = results_by_model.get_group(model)\n",
    "    ax.bar(model_results.hardware, model_results.train_rate, log=False)\n",
    "    ax.set_title(model)\n",
    "    ax.set_ylabel('samples / s')\n",
    "\n",
    "plt.tight_layout()"
   ]
  }
 ],
 "metadata": {
  "kernelspec": {
   "display_name": "Python 3",
   "language": "python",
   "name": "python3"
  },
  "language_info": {
   "codemirror_mode": {
    "name": "ipython",
    "version": 3
   },
   "file_extension": ".py",
   "mimetype": "text/x-python",
   "name": "python",
   "nbconvert_exporter": "python",
   "pygments_lexer": "ipython3",
   "version": "3.7.4"
  },
  "toc-autonumbering": false
 },
 "nbformat": 4,
 "nbformat_minor": 4
}
